{
 "cells": [
  {
   "cell_type": "markdown",
   "metadata": {
    "vscode": {
     "languageId": "plaintext"
    }
   },
   "source": [
    "# Assignment 2: Named Entity Recognition\n",
    "Cedric Omtzigt and Carlos de Bourbon\n",
    "\n",
    "Introduction: Named entity recognition (NER) is an important task of many information extraction\n",
    "systems. NER seeks to locate and classify elements in text into pre-defined categories such as the names of\n",
    "persons, organizations, locations, etc. In this task you should learn how to apply existing NER systems on\n",
    "your dataset and how to evaluate them.\n",
    "Task: Find out how many different persons are in the Hamlet corpus. How many if you use the 3,\n",
    "4 and 7-classes tagger? Upload a ipython notebook (.ipynb) with your solutions and also a PDF (File →\n",
    "Download as → PDF via PDFLatex, in the ipython Notebooks.)"
   ]
  },
  {
   "cell_type": "code",
   "execution_count": 1,
   "metadata": {},
   "outputs": [],
   "source": [
    "from nltk.tag import StanfordNERTagger\n",
    "from nltk.tokenize import word_tokenize"
   ]
  },
  {
   "cell_type": "code",
   "execution_count": 2,
   "metadata": {},
   "outputs": [],
   "source": [
    "jar_location = './stanford-ner-2020/stanford-ner.jar'\n",
    "model_location_3classes = './stanford-ner-2020/classifiers/english.all.3class.distsim.crf.ser.gz'\n",
    "model_location_4classes = './stanford-ner-2020/classifiers/english.conll.4class.distsim.crf.ser.gz'\n",
    "model_location_7classes = './stanford-ner-2020/classifiers/english.muc.7class.distsim.crf.ser.gz'\n",
    "st3 = StanfordNERTagger(model_location_3classes,jar_location,encoding='utf-8')\n",
    "st4 = StanfordNERTagger(model_location_4classes,jar_location,encoding='utf-8')\n",
    "st7 = StanfordNERTagger(model_location_7classes,jar_location,encoding='utf-8')\n",
    "#group classifiers in a list \n",
    "classifiers = [st3, st4, st7]"
   ]
  },
  {
   "cell_type": "code",
   "execution_count": 6,
   "metadata": {},
   "outputs": [
    {
     "name": "stdout",
     "output_type": "stream",
     "text": [
      "3-class classifier: \n",
      "            852 entries of class PERSON found, with 314 unique persons.\n",
      "4-class classifier: \n",
      "            1060 entries of class PERSON found, with 490 unique persons.\n",
      "7-class classifier: \n",
      "            350 entries of class PERSON found, with 204 unique persons.\n"
     ]
    }
   ],
   "source": [
    "\"\"\" Task: Find out how many different persons are in the Hamlet corpus. How many if you use the 3,\n",
    "4 and 7-classes tagger?\n",
    "\"\"\"\n",
    "#input text downloaded from the guthenburg website directly (see sources) and split on white space. \n",
    "with open(\"Hamlet.txt\", encoding=\"utf-8\") as file: \n",
    "   hamlet_text=  file.read()\n",
    "\n",
    "hamlet_tokens = word_tokenize(hamlet_text)\n",
    "\n",
    "nr_of_classes = [3, 4, 7] # for printing/style purposes\n",
    "for i, classifier in enumerate(classifiers):\n",
    "    entities = classifier.tag(hamlet_tokens)  #get all entities\n",
    "    persons = [e for e, c in entities if c == \"PERSON\"] #filter on the person class\n",
    "    print(f\"\"\"{nr_of_classes[i]}-class classifier: \n",
    "            {len(persons)} entries of class PERSON found, with {len(set(persons))} unique persons.\"\"\")"
   ]
  },
  {
   "cell_type": "code",
   "execution_count": null,
   "metadata": {},
   "outputs": [],
   "source": []
  },
  {
   "cell_type": "markdown",
   "metadata": {},
   "source": [
    "Looking at the result we can see the effects of granularity, where more classification options most likely improve the accuracy, but possibly with diminishing returns. However without ground truth is impossible to draw any conclusion\n",
    "\n",
    "\n",
    "Sources: \n",
    "- Example code: Christin Seifert, licensed under the Creative Commons Attribution 3.0 Unported License https://creativecommons.org/licenses/by/3.0/ Named Entity Recognition \n",
    "- Gutenburg protjec Hamlet text https://www.gutenberg.org/ebooks/2265"
   ]
  },
  {
   "cell_type": "markdown",
   "metadata": {},
   "source": []
  }
 ],
 "metadata": {
  "kernelspec": {
   "display_name": ".venv",
   "language": "python",
   "name": "python3"
  },
  "language_info": {
   "codemirror_mode": {
    "name": "ipython",
    "version": 3
   },
   "file_extension": ".py",
   "mimetype": "text/x-python",
   "name": "python",
   "nbconvert_exporter": "python",
   "pygments_lexer": "ipython3",
   "version": "3.11.0"
  }
 },
 "nbformat": 4,
 "nbformat_minor": 2
}
